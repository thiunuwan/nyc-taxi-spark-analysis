{
 "cells": [
  {
   "cell_type": "markdown",
   "id": "ebb04f3c-7ce5-445e-b5b8-cedc8c629064",
   "metadata": {},
   "source": [
    "### NYC-Taxi Data Analysis\r\n"
   ]
  },
  {
   "cell_type": "code",
   "execution_count": 1,
   "id": "415c5b17-3a57-4945-840a-51cbc0c3f2c7",
   "metadata": {},
   "outputs": [],
   "source": [
    "# Import necessary libraries\n",
    "from pyspark.sql import SparkSession\n",
    "from pyspark.sql.functions import col, to_timestamp, hour, dayofweek, year, month, dayofmonth\n",
    "import os\n",
    "import matplotlib.pyplot as plt"
   ]
  },
  {
   "cell_type": "markdown",
   "id": "bf59e700-14a1-44d5-ad92-a65bfa5c484d",
   "metadata": {},
   "source": [
    "#### Section 1: Data Ingestion & Preprocessing\n",
    "\n",
    "In this section, we load multiple monthly NYC Yellow Taxi Parquet files, clean the data, convert date fields to timestamps, and engineer new time-based features (e.g., hour, day of week). The resulting DataFrame is cached and registered as a temporary SQL view for reuse in later sections."
   ]
  },
  {
   "cell_type": "code",
   "execution_count": 2,
   "id": "52429e39-6cbc-499e-a682-d063c664c5d6",
   "metadata": {},
   "outputs": [],
   "source": [
    "# Initialize SparkSession\n",
    "spark = SparkSession.builder \\\n",
    "    .appName(\"NYC Taxi Data Analysis\") \\\n",
    "    .config(\"spark.sql.execution.arrow.enabled\", \"true\") \\\n",
    "    .getOrCreate()"
   ]
  },
  {
   "cell_type": "code",
   "execution_count": 3,
   "id": "c89c6234-18ca-4208-af06-fa123ea8a066",
   "metadata": {},
   "outputs": [],
   "source": [
    "data_dir = \"data\"\n",
    "file_prefix = \"yellow_tripdata\"\n",
    "\n",
    "file_paths = []\n",
    "\n",
    "# Add files for 2020–2024 (all months)\n",
    "for year in range(2020, 2025):\n",
    "    for month in range(1, 13):\n",
    "        path = os.path.join(data_dir, f\"{file_prefix}_{year}-{str(month).zfill(2)}.parquet\")\n",
    "        if os.path.exists(path):\n",
    "            file_paths.append(path)\n",
    "\n",
    "# Add files for 2025 (only Jan–Mar)\n",
    "for month in range(1, 4):\n",
    "    path = os.path.join(data_dir, f\"{file_prefix}_2025-{str(month).zfill(2)}.parquet\")\n",
    "    if os.path.exists(path):\n",
    "        file_paths.append(path)\n"
   ]
  },
  {
   "cell_type": "code",
   "execution_count": 4,
   "id": "ad160dee-ba03-48a9-9537-108255712126",
   "metadata": {},
   "outputs": [],
   "source": [
    "# 🧾 Load multiple monthly Parquet files\n",
    "if file_paths:\n",
    "    df = spark.read.parquet(*file_paths)\n",
    "else:\n",
    "    print(\"No valid files found.\")"
   ]
  },
  {
   "cell_type": "code",
   "execution_count": 5,
   "id": "7194f174-c748-41d4-81fb-f3fb1d9b782c",
   "metadata": {},
   "outputs": [
    {
     "name": "stdout",
     "output_type": "stream",
     "text": [
      "root\n",
      " |-- VendorID: integer (nullable = true)\n",
      " |-- tpep_pickup_datetime: timestamp_ntz (nullable = true)\n",
      " |-- tpep_dropoff_datetime: timestamp_ntz (nullable = true)\n",
      " |-- passenger_count: long (nullable = true)\n",
      " |-- trip_distance: double (nullable = true)\n",
      " |-- RatecodeID: long (nullable = true)\n",
      " |-- store_and_fwd_flag: string (nullable = true)\n",
      " |-- PULocationID: integer (nullable = true)\n",
      " |-- DOLocationID: integer (nullable = true)\n",
      " |-- payment_type: long (nullable = true)\n",
      " |-- fare_amount: double (nullable = true)\n",
      " |-- extra: double (nullable = true)\n",
      " |-- mta_tax: double (nullable = true)\n",
      " |-- tip_amount: double (nullable = true)\n",
      " |-- tolls_amount: double (nullable = true)\n",
      " |-- improvement_surcharge: double (nullable = true)\n",
      " |-- total_amount: double (nullable = true)\n",
      " |-- congestion_surcharge: double (nullable = true)\n",
      " |-- Airport_fee: double (nullable = true)\n",
      " |-- cbd_congestion_fee: double (nullable = true)\n",
      "\n"
     ]
    }
   ],
   "source": [
    "# Show schema and first few rows\n",
    "df.printSchema()"
   ]
  },
  {
   "cell_type": "code",
   "execution_count": 6,
   "id": "74a820f5-9c34-467d-b102-ec57df1f887b",
   "metadata": {},
   "outputs": [
    {
     "data": {
      "text/html": [
       "<style type=\"text/css\">\n",
       "</style>\n",
       "<table id=\"T_69ea3\" style=\"max-height:300px; overflow-y: auto; display:block;\">\n",
       "  <thead>\n",
       "    <tr>\n",
       "      <th class=\"blank level0\" >&nbsp;</th>\n",
       "      <th id=\"T_69ea3_level0_col0\" class=\"col_heading level0 col0\" >VendorID</th>\n",
       "      <th id=\"T_69ea3_level0_col1\" class=\"col_heading level0 col1\" >tpep_pickup_datetime</th>\n",
       "      <th id=\"T_69ea3_level0_col2\" class=\"col_heading level0 col2\" >tpep_dropoff_datetime</th>\n",
       "      <th id=\"T_69ea3_level0_col3\" class=\"col_heading level0 col3\" >passenger_count</th>\n",
       "      <th id=\"T_69ea3_level0_col4\" class=\"col_heading level0 col4\" >trip_distance</th>\n",
       "      <th id=\"T_69ea3_level0_col5\" class=\"col_heading level0 col5\" >RatecodeID</th>\n",
       "      <th id=\"T_69ea3_level0_col6\" class=\"col_heading level0 col6\" >store_and_fwd_flag</th>\n",
       "      <th id=\"T_69ea3_level0_col7\" class=\"col_heading level0 col7\" >PULocationID</th>\n",
       "      <th id=\"T_69ea3_level0_col8\" class=\"col_heading level0 col8\" >DOLocationID</th>\n",
       "      <th id=\"T_69ea3_level0_col9\" class=\"col_heading level0 col9\" >payment_type</th>\n",
       "      <th id=\"T_69ea3_level0_col10\" class=\"col_heading level0 col10\" >fare_amount</th>\n",
       "      <th id=\"T_69ea3_level0_col11\" class=\"col_heading level0 col11\" >extra</th>\n",
       "      <th id=\"T_69ea3_level0_col12\" class=\"col_heading level0 col12\" >mta_tax</th>\n",
       "      <th id=\"T_69ea3_level0_col13\" class=\"col_heading level0 col13\" >tip_amount</th>\n",
       "      <th id=\"T_69ea3_level0_col14\" class=\"col_heading level0 col14\" >tolls_amount</th>\n",
       "      <th id=\"T_69ea3_level0_col15\" class=\"col_heading level0 col15\" >improvement_surcharge</th>\n",
       "      <th id=\"T_69ea3_level0_col16\" class=\"col_heading level0 col16\" >total_amount</th>\n",
       "      <th id=\"T_69ea3_level0_col17\" class=\"col_heading level0 col17\" >congestion_surcharge</th>\n",
       "      <th id=\"T_69ea3_level0_col18\" class=\"col_heading level0 col18\" >Airport_fee</th>\n",
       "      <th id=\"T_69ea3_level0_col19\" class=\"col_heading level0 col19\" >cbd_congestion_fee</th>\n",
       "    </tr>\n",
       "  </thead>\n",
       "  <tbody>\n",
       "    <tr>\n",
       "      <th id=\"T_69ea3_level0_row0\" class=\"row_heading level0 row0\" >0</th>\n",
       "      <td id=\"T_69ea3_row0_col0\" class=\"data row0 col0\" >1</td>\n",
       "      <td id=\"T_69ea3_row0_col1\" class=\"data row0 col1\" >2025-01-01 00:18:38</td>\n",
       "      <td id=\"T_69ea3_row0_col2\" class=\"data row0 col2\" >2025-01-01 00:26:59</td>\n",
       "      <td id=\"T_69ea3_row0_col3\" class=\"data row0 col3\" >1</td>\n",
       "      <td id=\"T_69ea3_row0_col4\" class=\"data row0 col4\" >1.600000</td>\n",
       "      <td id=\"T_69ea3_row0_col5\" class=\"data row0 col5\" >1</td>\n",
       "      <td id=\"T_69ea3_row0_col6\" class=\"data row0 col6\" >N</td>\n",
       "      <td id=\"T_69ea3_row0_col7\" class=\"data row0 col7\" >229</td>\n",
       "      <td id=\"T_69ea3_row0_col8\" class=\"data row0 col8\" >237</td>\n",
       "      <td id=\"T_69ea3_row0_col9\" class=\"data row0 col9\" >1</td>\n",
       "      <td id=\"T_69ea3_row0_col10\" class=\"data row0 col10\" >10.000000</td>\n",
       "      <td id=\"T_69ea3_row0_col11\" class=\"data row0 col11\" >3.500000</td>\n",
       "      <td id=\"T_69ea3_row0_col12\" class=\"data row0 col12\" >0.500000</td>\n",
       "      <td id=\"T_69ea3_row0_col13\" class=\"data row0 col13\" >3.000000</td>\n",
       "      <td id=\"T_69ea3_row0_col14\" class=\"data row0 col14\" >0.000000</td>\n",
       "      <td id=\"T_69ea3_row0_col15\" class=\"data row0 col15\" >1.000000</td>\n",
       "      <td id=\"T_69ea3_row0_col16\" class=\"data row0 col16\" >18.000000</td>\n",
       "      <td id=\"T_69ea3_row0_col17\" class=\"data row0 col17\" >2.500000</td>\n",
       "      <td id=\"T_69ea3_row0_col18\" class=\"data row0 col18\" >0.000000</td>\n",
       "      <td id=\"T_69ea3_row0_col19\" class=\"data row0 col19\" >0.000000</td>\n",
       "    </tr>\n",
       "    <tr>\n",
       "      <th id=\"T_69ea3_level0_row1\" class=\"row_heading level0 row1\" >1</th>\n",
       "      <td id=\"T_69ea3_row1_col0\" class=\"data row1 col0\" >1</td>\n",
       "      <td id=\"T_69ea3_row1_col1\" class=\"data row1 col1\" >2025-01-01 00:32:40</td>\n",
       "      <td id=\"T_69ea3_row1_col2\" class=\"data row1 col2\" >2025-01-01 00:35:13</td>\n",
       "      <td id=\"T_69ea3_row1_col3\" class=\"data row1 col3\" >1</td>\n",
       "      <td id=\"T_69ea3_row1_col4\" class=\"data row1 col4\" >0.500000</td>\n",
       "      <td id=\"T_69ea3_row1_col5\" class=\"data row1 col5\" >1</td>\n",
       "      <td id=\"T_69ea3_row1_col6\" class=\"data row1 col6\" >N</td>\n",
       "      <td id=\"T_69ea3_row1_col7\" class=\"data row1 col7\" >236</td>\n",
       "      <td id=\"T_69ea3_row1_col8\" class=\"data row1 col8\" >237</td>\n",
       "      <td id=\"T_69ea3_row1_col9\" class=\"data row1 col9\" >1</td>\n",
       "      <td id=\"T_69ea3_row1_col10\" class=\"data row1 col10\" >5.100000</td>\n",
       "      <td id=\"T_69ea3_row1_col11\" class=\"data row1 col11\" >3.500000</td>\n",
       "      <td id=\"T_69ea3_row1_col12\" class=\"data row1 col12\" >0.500000</td>\n",
       "      <td id=\"T_69ea3_row1_col13\" class=\"data row1 col13\" >2.020000</td>\n",
       "      <td id=\"T_69ea3_row1_col14\" class=\"data row1 col14\" >0.000000</td>\n",
       "      <td id=\"T_69ea3_row1_col15\" class=\"data row1 col15\" >1.000000</td>\n",
       "      <td id=\"T_69ea3_row1_col16\" class=\"data row1 col16\" >12.120000</td>\n",
       "      <td id=\"T_69ea3_row1_col17\" class=\"data row1 col17\" >2.500000</td>\n",
       "      <td id=\"T_69ea3_row1_col18\" class=\"data row1 col18\" >0.000000</td>\n",
       "      <td id=\"T_69ea3_row1_col19\" class=\"data row1 col19\" >0.000000</td>\n",
       "    </tr>\n",
       "    <tr>\n",
       "      <th id=\"T_69ea3_level0_row2\" class=\"row_heading level0 row2\" >2</th>\n",
       "      <td id=\"T_69ea3_row2_col0\" class=\"data row2 col0\" >1</td>\n",
       "      <td id=\"T_69ea3_row2_col1\" class=\"data row2 col1\" >2025-01-01 00:44:04</td>\n",
       "      <td id=\"T_69ea3_row2_col2\" class=\"data row2 col2\" >2025-01-01 00:46:01</td>\n",
       "      <td id=\"T_69ea3_row2_col3\" class=\"data row2 col3\" >1</td>\n",
       "      <td id=\"T_69ea3_row2_col4\" class=\"data row2 col4\" >0.600000</td>\n",
       "      <td id=\"T_69ea3_row2_col5\" class=\"data row2 col5\" >1</td>\n",
       "      <td id=\"T_69ea3_row2_col6\" class=\"data row2 col6\" >N</td>\n",
       "      <td id=\"T_69ea3_row2_col7\" class=\"data row2 col7\" >141</td>\n",
       "      <td id=\"T_69ea3_row2_col8\" class=\"data row2 col8\" >141</td>\n",
       "      <td id=\"T_69ea3_row2_col9\" class=\"data row2 col9\" >1</td>\n",
       "      <td id=\"T_69ea3_row2_col10\" class=\"data row2 col10\" >5.100000</td>\n",
       "      <td id=\"T_69ea3_row2_col11\" class=\"data row2 col11\" >3.500000</td>\n",
       "      <td id=\"T_69ea3_row2_col12\" class=\"data row2 col12\" >0.500000</td>\n",
       "      <td id=\"T_69ea3_row2_col13\" class=\"data row2 col13\" >2.000000</td>\n",
       "      <td id=\"T_69ea3_row2_col14\" class=\"data row2 col14\" >0.000000</td>\n",
       "      <td id=\"T_69ea3_row2_col15\" class=\"data row2 col15\" >1.000000</td>\n",
       "      <td id=\"T_69ea3_row2_col16\" class=\"data row2 col16\" >12.100000</td>\n",
       "      <td id=\"T_69ea3_row2_col17\" class=\"data row2 col17\" >2.500000</td>\n",
       "      <td id=\"T_69ea3_row2_col18\" class=\"data row2 col18\" >0.000000</td>\n",
       "      <td id=\"T_69ea3_row2_col19\" class=\"data row2 col19\" >0.000000</td>\n",
       "    </tr>\n",
       "  </tbody>\n",
       "</table>\n"
      ],
      "text/plain": [
       "<pandas.io.formats.style.Styler at 0x26715e245f0>"
      ]
     },
     "execution_count": 6,
     "metadata": {},
     "output_type": "execute_result"
    }
   ],
   "source": [
    "pandas_df = df.limit(3).toPandas()\n",
    "pandas_df.style.set_table_attributes('style=\"max-height:300px; overflow-y: auto; display:block;\"')"
   ]
  },
  {
   "cell_type": "code",
   "execution_count": 7,
   "id": "98105f65-370f-42c7-aae0-f6c2efaf9459",
   "metadata": {},
   "outputs": [],
   "source": [
    "# Data Type Conversion (datetime fields)\n",
    "df = df.withColumn(\"pickup_datetime\", to_timestamp(\"tpep_pickup_datetime\")) \\\n",
    "       .withColumn(\"dropoff_datetime\", to_timestamp(\"tpep_dropoff_datetime\"))"
   ]
  },
  {
   "cell_type": "code",
   "execution_count": 8,
   "id": "b6e0fcb3-878e-480a-8668-96ef7410f00b",
   "metadata": {},
   "outputs": [],
   "source": [
    "# Basic Cleaning: Filter out invalid entries\n",
    "df = df.filter(\n",
    "    (col(\"trip_distance\") > 0) &\n",
    "    (col(\"fare_amount\") > 0) &\n",
    "    (col(\"pickup_datetime\").isNotNull()) &\n",
    "    (col(\"dropoff_datetime\").isNotNull())\n",
    ")"
   ]
  },
  {
   "cell_type": "code",
   "execution_count": 9,
   "id": "b8081b04-aad5-4172-97d5-416a058c3c63",
   "metadata": {},
   "outputs": [],
   "source": [
    "from pyspark.sql.functions import hour, dayofweek, dayofmonth, month, year\n",
    "\n",
    "df = df.withColumn(\"hour\", hour(\"pickup_datetime\")) \\\n",
    "       .withColumn(\"day_of_week\", dayofweek(\"pickup_datetime\")) \\\n",
    "       .withColumn(\"day\", dayofmonth(\"pickup_datetime\")) \\\n",
    "       .withColumn(\"month\", month(\"pickup_datetime\")) \\\n",
    "       .withColumn(\"year\", year(\"pickup_datetime\"))"
   ]
  },
  {
   "cell_type": "code",
   "execution_count": 10,
   "id": "45879517-3fee-4215-8966-024850556a09",
   "metadata": {},
   "outputs": [
    {
     "name": "stdout",
     "output_type": "stream",
     "text": [
      "root\n",
      " |-- VendorID: integer (nullable = true)\n",
      " |-- tpep_pickup_datetime: timestamp_ntz (nullable = true)\n",
      " |-- tpep_dropoff_datetime: timestamp_ntz (nullable = true)\n",
      " |-- passenger_count: long (nullable = true)\n",
      " |-- trip_distance: double (nullable = true)\n",
      " |-- RatecodeID: long (nullable = true)\n",
      " |-- store_and_fwd_flag: string (nullable = true)\n",
      " |-- PULocationID: integer (nullable = true)\n",
      " |-- DOLocationID: integer (nullable = true)\n",
      " |-- payment_type: long (nullable = true)\n",
      " |-- fare_amount: double (nullable = true)\n",
      " |-- extra: double (nullable = true)\n",
      " |-- mta_tax: double (nullable = true)\n",
      " |-- tip_amount: double (nullable = true)\n",
      " |-- tolls_amount: double (nullable = true)\n",
      " |-- improvement_surcharge: double (nullable = true)\n",
      " |-- total_amount: double (nullable = true)\n",
      " |-- congestion_surcharge: double (nullable = true)\n",
      " |-- Airport_fee: double (nullable = true)\n",
      " |-- cbd_congestion_fee: double (nullable = true)\n",
      " |-- pickup_datetime: timestamp (nullable = true)\n",
      " |-- dropoff_datetime: timestamp (nullable = true)\n",
      " |-- hour: integer (nullable = true)\n",
      " |-- day_of_week: integer (nullable = true)\n",
      " |-- day: integer (nullable = true)\n",
      " |-- month: integer (nullable = true)\n",
      " |-- year: integer (nullable = true)\n",
      "\n"
     ]
    }
   ],
   "source": [
    "# Show schema and sample data\n",
    "df.printSchema()"
   ]
  },
  {
   "cell_type": "code",
   "execution_count": 11,
   "id": "67efce72-b29c-4d62-be5b-bc67296f4e73",
   "metadata": {},
   "outputs": [],
   "source": [
    "# Register as Temp View for SQL Queries\n",
    "df.createOrReplaceTempView(\"yellow_taxi_trips\")"
   ]
  },
  {
   "cell_type": "code",
   "execution_count": 12,
   "id": "2fd09643-6f9c-4dca-adb1-541664043f5a",
   "metadata": {},
   "outputs": [
    {
     "name": "stdout",
     "output_type": "stream",
     "text": [
      "+-------+-----------------+-----------------+\n",
      "|summary|    trip_distance|      fare_amount|\n",
      "+-------+-----------------+-----------------+\n",
      "|  count|         10413352|         10413352|\n",
      "|   mean|5.825326975405316|18.52100415697155|\n",
      "| stddev|532.6486725379589|271.5424317881225|\n",
      "|    min|             0.01|             0.01|\n",
      "|    max|        281085.57|        863372.12|\n",
      "+-------+-----------------+-----------------+\n",
      "\n"
     ]
    }
   ],
   "source": [
    "from pyspark.sql.functions import to_timestamp\n",
    "# Show basic statistics\n",
    "# print(\"Summary statistics (trip_distance, fare_amount):\")\n",
    "df.select(\"trip_distance\", \"fare_amount\").describe().show()"
   ]
  },
  {
   "cell_type": "code",
   "execution_count": null,
   "id": "80854fae-6d3e-433e-aec0-30746e5f4e4a",
   "metadata": {},
   "outputs": [],
   "source": []
  },
  {
   "cell_type": "markdown",
   "id": "bcb2c3c5-5601-4b7f-82c1-121c9ba3ad23",
   "metadata": {},
   "source": [
    "#### Section 2: Time-Series Analysis\n",
    "We explore trip activity patterns across time. This includes analyzing the distribution of rides by hour, day of the week, and comparing weekday vs. weekend traffic. Visualizations highlight when NYC sees the most taxi activity."
   ]
  },
  {
   "cell_type": "markdown",
   "id": "6435ddf8-2a28-4f71-84b1-f91893519985",
   "metadata": {},
   "source": [
    "#### Section 3: Geospatial Analysis\n",
    "\n",
    "This section focuses on spatial trends by identifying high-demand pickup zones. We aggregate pickups by location, merge with NYC taxi zone shapefile data, and create geospatial visualizations showing demand hotspots across the city."
   ]
  },
  {
   "cell_type": "markdown",
   "id": "157aceef-a7e7-4c5e-93dc-2d0774e1ac2e",
   "metadata": {},
   "source": [
    "#### Section 4: Advanced Spark SQL Analytics\n",
    "\n",
    "Using Spark SQL, we run analytical queries to uncover deeper insights: revenue by zone, common pickup-dropoff routes, anomalies in trip data, and average fare metrics. This demonstrates the power of SQL over large datasets with Spark"
   ]
  },
  {
   "cell_type": "markdown",
   "id": "87c24ced-12fd-45dd-b5af-3a3607d6c119",
   "metadata": {},
   "source": [
    "#### Section 5: Demand Forecasting with Spark MLlib\n",
    "We apply machine learning to predict hourly taxi demand. After feature engineering and vector assembly, we train regression models using Spark MLlib and evaluate their accuracy. The goal is to forecast demand based on historical trends."
   ]
  },
  {
   "cell_type": "code",
   "execution_count": 13,
   "id": "e40442c6-803d-4d91-a842-4a8b4ef74374",
   "metadata": {},
   "outputs": [],
   "source": [
    "# Convert pickup/dropoff datetime to proper timestamp types (if not already)\n",
    "df = df.withColumn(\"pickup_datetime\", to_timestamp(\"tpep_pickup_datetime\")) \\\n",
    "       .withColumn(\"dropoff_datetime\", to_timestamp(\"tpep_dropoff_datetime\"))"
   ]
  },
  {
   "cell_type": "code",
   "execution_count": 14,
   "id": "2bcad886-719e-4e5c-9419-5ed3b33a43f1",
   "metadata": {},
   "outputs": [],
   "source": [
    "# Add useful time-based features\n",
    "df = df.withColumn(\"hour\", hour(\"pickup_datetime\")) \\\n",
    "       .withColumn(\"dayofweek\", dayofweek(\"pickup_datetime\"))"
   ]
  },
  {
   "cell_type": "code",
   "execution_count": 15,
   "id": "6fb2ff3d-3f5c-4d85-a360-6578d1935cbc",
   "metadata": {},
   "outputs": [],
   "source": [
    "# Filter out records with invalid values\n",
    "df = df.filter((col(\"trip_distance\") > 0) & (col(\"fare_amount\") > 0))"
   ]
  },
  {
   "cell_type": "code",
   "execution_count": 16,
   "id": "2ab380c5-89bb-454c-8f23-a434a576e432",
   "metadata": {},
   "outputs": [
    {
     "name": "stdout",
     "output_type": "stream",
     "text": [
      "+-------+-----------------+-----------------+\n",
      "|summary|    trip_distance|      fare_amount|\n",
      "+-------+-----------------+-----------------+\n",
      "|  count|         10413352|         10413352|\n",
      "|   mean|5.825326975405316|18.52100415697155|\n",
      "| stddev|532.6486725379589|271.5424317881225|\n",
      "|    min|             0.01|             0.01|\n",
      "|    max|        281085.57|        863372.12|\n",
      "+-------+-----------------+-----------------+\n",
      "\n"
     ]
    }
   ],
   "source": [
    "# Show basic statistics\n",
    "df.select(\"trip_distance\", \"fare_amount\").describe().show()"
   ]
  },
  {
   "cell_type": "code",
   "execution_count": 17,
   "id": "2e64d0e2-c3ca-4295-ab9c-24ce7cd9e5c6",
   "metadata": {},
   "outputs": [],
   "source": [
    "# Analyze pickup count by hour\n",
    "pickup_by_hour = df.groupBy(\"hour\").count().orderBy(\"hour\")\n",
    "pickup_pd = pickup_by_hour.toPandas()"
   ]
  },
  {
   "cell_type": "code",
   "execution_count": 18,
   "id": "5acfd501-75e4-4844-a5d7-013989e01112",
   "metadata": {},
   "outputs": [
    {
     "data": {
      "image/png": "[encoded data removed]",
      "text/plain": [
       "<Figure size 1000x500 with 1 Axes>"
      ]
     },
     "metadata": {},
     "output_type": "display_data"
    }
   ],
   "source": [
    "# Plot: Pickups by hour\n",
    "plt.figure(figsize=(10, 5))\n",
    "plt.plot(pickup_pd[\"hour\"], pickup_pd[\"count\"], marker='o')\n",
    "plt.title(\"NYC Taxi Pickups by Hour (Jan 2025)\")\n",
    "plt.xlabel(\"Hour of Day\")\n",
    "plt.ylabel(\"Number of Pickups\")\n",
    "plt.grid(True)\n",
    "plt.xticks(range(0, 24))\n",
    "plt.show()"
   ]
  },
  {
   "cell_type": "markdown",
   "id": "767904de-14d2-4e3f-8d2b-8681eec95513",
   "metadata": {},
   "source": [
    "#### Geospatial Analysis with Apache Spark"
   ]
  },
  {
   "cell_type": "markdown",
   "id": "6b4d31fc-c1ef-4b90-862b-f0bf18764c76",
   "metadata": {},
   "source": [
    "Objective:\n",
    "- Identify popular pickup zones.\n",
    "\n",
    "- Visualize demand hotspots in NYC.\n",
    "\n",
    "- Optionally, export data for map visualization (e.g., with Folium or GeoPandas).\n",
    "\n"
   ]
  },
  {
   "cell_type": "code",
   "execution_count": 19,
   "id": "929e90e6-0366-4b96-ba16-3d75eb98671f",
   "metadata": {},
   "outputs": [],
   "source": [
    "zone_df = spark.read.csv(\"data/taxi_zone_lookup.csv\", header=True, inferSchema=True)\n",
    "\n",
    "# Join with pickup zone\n",
    "df = df.join(zone_df, df.PULocationID == zone_df.LocationID, \"left\") \\\n",
    "       .withColumnRenamed(\"Borough\", \"pickup_borough\") \\\n",
    "       .withColumnRenamed(\"Zone\", \"pickup_zone\") \\\n",
    "       .drop(\"service_zone\", \"LocationID\")\n"
   ]
  },
  {
   "cell_type": "code",
   "execution_count": 20,
   "id": "deaefbd5-5323-4d9d-adaf-ab329eb11caa",
   "metadata": {},
   "outputs": [
    {
     "name": "stdout",
     "output_type": "stream",
     "text": [
      "+--------------+----------------------------+------+\n",
      "|pickup_borough|pickup_zone                 |count |\n",
      "+--------------+----------------------------+------+\n",
      "|Manhattan     |Midtown Center              |487190|\n",
      "|Manhattan     |Upper East Side South       |473423|\n",
      "|Manhattan     |Upper East Side North       |437136|\n",
      "|Queens        |JFK Airport                 |398793|\n",
      "|Manhattan     |Times Sq/Theatre District   |353394|\n",
      "|Manhattan     |Penn Station/Madison Sq West|349141|\n",
      "|Manhattan     |Midtown East                |343886|\n",
      "|Manhattan     |Lincoln Square East         |316540|\n",
      "|Manhattan     |Union Sq                    |294043|\n",
      "|Manhattan     |Murray Hill                 |283852|\n",
      "+--------------+----------------------------+------+\n",
      "only showing top 10 rows\n",
      "\n"
     ]
    }
   ],
   "source": [
    "pickup_counts = df.groupBy(\"pickup_borough\", \"pickup_zone\") \\\n",
    "                  .count() \\\n",
    "                  .orderBy(\"count\", ascending=False)\n",
    "\n",
    "pickup_counts.show(10, truncate=False)\n"
   ]
  },
  {
   "cell_type": "code",
   "execution_count": 21,
   "id": "d6b6baf1-aa60-42d5-8012-33de432b7778",
   "metadata": {},
   "outputs": [],
   "source": [
    "pickup_pd = pickup_counts.toPandas()\n",
    "pickup_pd.to_csv(\"output/popular_pickup_zones.csv\", index=False)\n"
   ]
  },
  {
   "cell_type": "code",
   "execution_count": 22,
   "id": "77b72a05-57e3-4476-8483-0f13ce500047",
   "metadata": {},
   "outputs": [
    {
     "data": {
      "image/png": "[encoded data removed]",
      "text/plain": [
       "<Figure size 1200x600 with 1 Axes>"
      ]
     },
     "metadata": {},
     "output_type": "display_data"
    }
   ],
   "source": [
    "import pandas as pd\n",
    "import matplotlib.pyplot as plt\n",
    "\n",
    "# Load the CSV you exported from Spark\n",
    "df2 = pd.read_csv(\"output/popular_pickup_zones.csv\")\n",
    "\n",
    "# Get top 10 zones\n",
    "top10 = df2.sort_values(by=\"count\", ascending=False).head(10)\n",
    "\n",
    "# Plot\n",
    "plt.figure(figsize=(12, 6))\n",
    "plt.barh(top10[\"pickup_zone\"], top10[\"count\"], color=\"skyblue\")\n",
    "plt.xlabel(\"Number of Pickups\")\n",
    "plt.ylabel(\"Pickup Zone\")\n",
    "plt.title(\"Top 10 NYC Taxi Pickup Zones (Jan 2025)\")\n",
    "plt.gca().invert_yaxis()\n",
    "plt.tight_layout()\n",
    "plt.show()\n"
   ]
  },
  {
   "cell_type": "code",
   "execution_count": 23,
   "id": "feb126cb-406a-41e5-ae23-12d58d6adc12",
   "metadata": {},
   "outputs": [],
   "source": [
    "!pip install geopandas -q"
   ]
  },
  {
   "cell_type": "code",
   "execution_count": 24,
   "id": "74b309c3-80af-44f1-85ec-9060ac3c9573",
   "metadata": {},
   "outputs": [],
   "source": [
    "# Group pickup counts by location\n",
    "pickup_by_zone = df.groupBy(\"PULocationID\").count()\n",
    "\n",
    "# Convert to Pandas\n",
    "pickup_pd = pickup_by_zone.toPandas()\n"
   ]
  },
  {
   "cell_type": "code",
   "execution_count": 25,
   "id": "578fef01-be05-4624-8953-b64cb896d42c",
   "metadata": {},
   "outputs": [
    {
     "ename": "NameError",
     "evalue": "name 'gpd' is not defined",
     "output_type": "error",
     "traceback": [
      "\u001b[1;31m---------------------------------------------------------------------------\u001b[0m",
      "\u001b[1;31mNameError\u001b[0m                                 Traceback (most recent call last)",
      "Cell \u001b[1;32mIn[25], line 2\u001b[0m\n\u001b[0;32m      1\u001b[0m \u001b[38;5;66;03m# Load shapefile\u001b[39;00m\n\u001b[1;32m----> 2\u001b[0m gdf \u001b[38;5;241m=\u001b[39m gpd\u001b[38;5;241m.\u001b[39mread_file(\u001b[38;5;124m\"\u001b[39m\u001b[38;5;124mdata/taxi_zones/taxi_zones.shp\u001b[39m\u001b[38;5;124m\"\u001b[39m)\n\u001b[0;32m      4\u001b[0m \u001b[38;5;66;03m# Merge on LocationID\u001b[39;00m\n\u001b[0;32m      5\u001b[0m merged \u001b[38;5;241m=\u001b[39m gdf\u001b[38;5;241m.\u001b[39mmerge(pickup_pd, left_on\u001b[38;5;241m=\u001b[39m\u001b[38;5;124m\"\u001b[39m\u001b[38;5;124mLocationID\u001b[39m\u001b[38;5;124m\"\u001b[39m, right_on\u001b[38;5;241m=\u001b[39m\u001b[38;5;124m\"\u001b[39m\u001b[38;5;124mPULocationID\u001b[39m\u001b[38;5;124m\"\u001b[39m)\n",
      "\u001b[1;31mNameError\u001b[0m: name 'gpd' is not defined"
     ]
    }
   ],
   "source": [
    "# Load shapefile\n",
    "gdf = gpd.read_file(\"data/taxi_zones/taxi_zones.shp\")\n",
    "\n",
    "# Merge on LocationID\n",
    "merged = gdf.merge(pickup_pd, left_on=\"LocationID\", right_on=\"PULocationID\")\n"
   ]
  },
  {
   "cell_type": "code",
   "execution_count": null,
   "id": "c056bd41-7bcd-4b1e-ba15-2a02f0620422",
   "metadata": {},
   "outputs": [],
   "source": [
    "plt.figure(figsize=(12, 10))\n",
    "merged.plot(column=\"count\", cmap=\"OrRd\", legend=True, edgecolor=\"black\")\n",
    "plt.title(\"NYC Taxi Pickup Density by Zone (Jan 2025)\")\n",
    "plt.axis(\"off\")\n",
    "plt.show()\n"
   ]
  },
  {
   "cell_type": "code",
   "execution_count": null,
   "id": "28ab62fe-1a1e-4066-b6b0-dac7e1e384b3",
   "metadata": {},
   "outputs": [],
   "source": []
  }
 ],
 "metadata": {
  "kernelspec": {
   "display_name": "Python 3 (ipykernel)",
   "language": "python",
   "name": "python3"
  },
  "language_info": {
   "codemirror_mode": {
    "name": "ipython",
    "version": 3
   },
   "file_extension": ".py",
   "mimetype": "text/x-python",
   "name": "python",
   "nbconvert_exporter": "python",
   "pygments_lexer": "ipython3",
   "version": "3.12.4"
  }
 },
 "nbformat": 4,
 "nbformat_minor": 5
}
